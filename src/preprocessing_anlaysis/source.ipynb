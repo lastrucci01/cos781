{
 "cells": [
  {
   "cell_type": "markdown",
   "metadata": {},
   "source": [
    "# Loading the Data\n",
    "\n",
    "Due to the size of the dataset, we use the datasets library from HuggingFace"
   ]
  },
  {
   "cell_type": "code",
   "execution_count": null,
   "metadata": {},
   "outputs": [],
   "source": [
    "from datasets import load_dataset\n",
    "path = '/Users/richardlastrucci/Library/Mobile Documents/com~apple~CloudDocs/University/Honours/Semester 2/COS 781/project/data/source'"
   ]
  },
  {
   "cell_type": "code",
   "execution_count": null,
   "metadata": {},
   "outputs": [
    {
     "data": {
      "text/plain": [
       "DatasetDict({\n",
       "    train: Dataset({\n",
       "        features: ['user_id', 'book_id', 'review_id', 'rating', 'review_text', 'date_added', 'date_updated', 'read_at', 'started_at', 'n_votes', 'n_comments'],\n",
       "        num_rows: 15739967\n",
       "    })\n",
       "})"
      ]
     },
     "execution_count": 13,
     "metadata": {},
     "output_type": "execute_result"
    }
   ],
   "source": [
    "\n",
    "file = f\"{path}/goodreads.json\"\n",
    "reviews = load_dataset(\"json\", data_files= str(file)) # load the dataset\n",
    "reviews"
   ]
  },
  {
   "cell_type": "code",
   "execution_count": null,
   "metadata": {},
   "outputs": [],
   "source": [
    "path = '/Users/richardlastrucci/Library/Mobile Documents/com~apple~CloudDocs/University/Honours/Semester 2/COS 781/project/data/source'\n",
    "file = f\"{path}/books.json\"\n",
    "books = load_dataset(\"json\", data_files= str(file)) # load supplementary dataset with book title information"
   ]
  },
  {
   "cell_type": "code",
   "execution_count": null,
   "metadata": {},
   "outputs": [],
   "source": [
    "reviews = reviews['train'].shuffle(seed=42).select(range(3000000)) # randomly sample 3 000 000 rows"
   ]
  },
  {
   "cell_type": "code",
   "execution_count": null,
   "metadata": {},
   "outputs": [],
   "source": [
    "subset_books = books[\"train\"].select_columns([\"book_id\", \"title\"])\n",
    "subset_reviews = reviews.select_columns(['user_id','book_id','rating', 'review_text', 'date_added']) "
   ]
  },
  {
   "cell_type": "code",
   "execution_count": null,
   "metadata": {},
   "outputs": [
    {
     "name": "stderr",
     "output_type": "stream",
     "text": [
      "Mapping book_id to title: 100%|██████████| 2360655/2360655 [00:30<00:00, 78317.69it/s]\n"
     ]
    }
   ],
   "source": [
    "from tqdm import tqdm\n",
    "\n",
    "book_id_title_map = {row[\"book_id\"]: row[\"title\"] for row in tqdm(subset_books, desc=\"Mapping book_id to title\")} # create book id map"
   ]
  },
  {
   "cell_type": "code",
   "execution_count": 19,
   "metadata": {},
   "outputs": [
    {
     "name": "stderr",
     "output_type": "stream",
     "text": [
      "Map: 100%|██████████| 3000000/3000000 [24:33<00:00, 2035.68 examples/s]\n"
     ]
    }
   ],
   "source": [
    "subset_reviews = subset_reviews.map(\n",
    "    lambda row: {\"title\": book_id_title_map.get(row[\"book_id\"], \"Unknown\")},\n",
    ")"
   ]
  },
  {
   "cell_type": "code",
   "execution_count": 20,
   "metadata": {},
   "outputs": [
    {
     "data": {
      "text/plain": [
       "{'user_id': Value(dtype='string', id=None),\n",
       " 'book_id': Value(dtype='string', id=None),\n",
       " 'rating': Value(dtype='int64', id=None),\n",
       " 'review_text': Value(dtype='string', id=None),\n",
       " 'date_added': Value(dtype='string', id=None),\n",
       " 'title': Value(dtype='string', id=None)}"
      ]
     },
     "execution_count": 20,
     "metadata": {},
     "output_type": "execute_result"
    }
   ],
   "source": [
    "subset_reviews.features"
   ]
  },
  {
   "cell_type": "code",
   "execution_count": null,
   "metadata": {},
   "outputs": [
    {
     "name": "stderr",
     "output_type": "stream",
     "text": [
      "Creating json from Arrow format: 100%|██████████| 3000/3000 [00:22<00:00, 131.88ba/s]\n"
     ]
    },
    {
     "data": {
      "text/plain": [
       "2675723986"
      ]
     },
     "execution_count": 21,
     "metadata": {},
     "output_type": "execute_result"
    }
   ],
   "source": [
    "path = '/Users/richardlastrucci/Library/Mobile Documents/com~apple~CloudDocs/University/Honours/Semester 2/COS 781/project/data/intermediate'\n",
    "subset_reviews.to_json(f'{path}/reviews_sample.json', orient='records', lines=True) # write to file"
   ]
  }
 ],
 "metadata": {
  "kernelspec": {
   "display_name": "cos781",
   "language": "python",
   "name": "python3"
  },
  "language_info": {
   "codemirror_mode": {
    "name": "ipython",
    "version": 3
   },
   "file_extension": ".py",
   "mimetype": "text/x-python",
   "name": "python",
   "nbconvert_exporter": "python",
   "pygments_lexer": "ipython3",
   "version": "3.12.4"
  }
 },
 "nbformat": 4,
 "nbformat_minor": 2
}
